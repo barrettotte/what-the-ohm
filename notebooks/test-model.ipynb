{
 "cells": [
  {
   "cell_type": "markdown",
   "id": "223676cd-3ee5-4b57-9f75-67ac7f2d936d",
   "metadata": {},
   "source": [
    "# test-model\n",
    "\n",
    "Test model accuracy against a couple images it never saw during training."
   ]
  },
  {
   "cell_type": "code",
   "execution_count": 1,
   "id": "8340278e-c93d-4581-859b-40405bdab7c2",
   "metadata": {},
   "outputs": [],
   "source": [
    "from PIL import Image\n",
    "from typing import List\n",
    "\n",
    "import pandas as pd\n",
    "\n",
    "import torch\n",
    "import torch.nn as nn\n",
    "import torchvision.models as models\n",
    "\n",
    "from torchvision.transforms import v2"
   ]
  },
  {
   "cell_type": "code",
   "execution_count": 2,
   "id": "de14b308-6b89-426d-9f2d-e88650ba77ca",
   "metadata": {},
   "outputs": [],
   "source": [
    "IMG_SIZE = 256\n",
    "\n",
    "BAND_COLORS = [\n",
    "    'silver', 'white', 'blue', 'grey', 'violet', 'green', \n",
    "    'yellow', 'orange', 'red', 'gold', 'black', 'brown'\n",
    "]\n",
    "MAX_BANDS = 4\n",
    "CLASSES = MAX_BANDS * len(BAND_COLORS)"
   ]
  },
  {
   "cell_type": "code",
   "execution_count": 3,
   "id": "4c56ece2-1f45-49a0-95a8-e7909e9accb1",
   "metadata": {},
   "outputs": [],
   "source": [
    "# load neural net, must match saved model\n",
    "\n",
    "# model = models.resnet50(weights=models.ResNet50_Weights.DEFAULT)\n",
    "# model.fc = nn.Sequential(\n",
    "#     nn.Linear(in_features=model.fc.in_features, out_features=CLASSES),\n",
    "#     # nn.Sigmoid(),\n",
    "# )"
   ]
  },
  {
   "cell_type": "code",
   "execution_count": 4,
   "id": "a366dadc-e77c-41dd-9869-ed3bb744c3a1",
   "metadata": {},
   "outputs": [],
   "source": [
    "# model = models.resnet18(weights=models.ResNet18_Weights.DEFAULT)\n",
    "# model.fc = nn.Sequential(\n",
    "#     nn.Linear(in_features=model.fc.in_features, out_features=CLASSES),\n",
    "#     # nn.Sigmoid(),\n",
    "# )"
   ]
  },
  {
   "cell_type": "code",
   "execution_count": 5,
   "id": "0aa74fa5-2adc-40a7-bed2-21e728e4cae5",
   "metadata": {},
   "outputs": [],
   "source": [
    "# model = models.efficientnet_v2_s(weights=models.EfficientNet_V2_S_Weights.DEFAULT)\n",
    "# model.classifier[1] = nn.Linear(in_features=model.classifier[1].in_features, out_features=CLASSES)\n",
    "# # model.classifier.append(nn.Sigmoid())"
   ]
  },
  {
   "cell_type": "code",
   "execution_count": 6,
   "id": "9832420c-bf4e-4d21-9fe6-911f2096472f",
   "metadata": {},
   "outputs": [],
   "source": [
    "model = models.efficientnet_v2_m(weights=models.EfficientNet_V2_M_Weights.DEFAULT)\n",
    "model.classifier[1] = nn.Linear(in_features=model.classifier[1].in_features, out_features=CLASSES)\n",
    "# model.classifier.append(nn.Sigmoid())"
   ]
  },
  {
   "cell_type": "code",
   "execution_count": 7,
   "id": "c74ed58d-ac8c-46e0-8ced-9728946a5f8e",
   "metadata": {},
   "outputs": [
    {
     "data": {
      "text/plain": [
       "<All keys matched successfully>"
      ]
     },
     "execution_count": 7,
     "metadata": {},
     "output_type": "execute_result"
    }
   ],
   "source": [
    "model.load_state_dict(torch.load('../what-the-ohm-4B.pth'))\n",
    "# model.load_state_dict(torch.load('../what-the-ohm.pth'))"
   ]
  },
  {
   "cell_type": "code",
   "execution_count": 8,
   "id": "788be16e-5117-4ee5-ba3a-a91395d48e9b",
   "metadata": {},
   "outputs": [],
   "source": [
    "# generate list of classes\n",
    "def gen_classes() -> List[str]:\n",
    "    classes = []\n",
    "    for i in range(1, MAX_BANDS + 1):\n",
    "        for color in BAND_COLORS:\n",
    "            classes.append(f'band_{i}_{color}')\n",
    "    return classes\n",
    "\n",
    "# use model to predict bands in image\n",
    "def predict(model: nn.Module, img_path: str):\n",
    "    preprocess = v2.Compose([\n",
    "        v2.Resize(IMG_SIZE),\n",
    "        v2.ToImage(),\n",
    "        v2.ToDtype(torch.float32, scale=True),\n",
    "        v2.Normalize(mean=(0.485, 0.456, 0.406), std=(0.229, 0.224, 0.225)),\n",
    "    ])\n",
    "\n",
    "    img = Image.open(img_path)\n",
    "    img_tensor = preprocess(img)\n",
    "    batch = img_tensor.unsqueeze(0) # add batch dimension\n",
    "\n",
    "    model.eval()\n",
    "\n",
    "    with torch.no_grad():\n",
    "        logits = model(batch).squeeze(0) # remove batch dimension\n",
    "        # print(logits)\n",
    "        class_probs = torch.sigmoid(logits)\n",
    "    return class_probs\n",
    "\n",
    "# convert band probabilities to classes\n",
    "def probs_to_classes(probs: torch.Tensor, threshold: float = 0.5) -> List[str]:\n",
    "    classes = gen_classes()\n",
    "\n",
    "    for i,c in enumerate(classes):\n",
    "        if i > 0 and i % len(BAND_COLORS) == 0:\n",
    "            print()\n",
    "        p = probs[i] * 100.0\n",
    "        print(f'{c} -> {p:.2f}%')\n",
    "\n",
    "    pred_indices = (probs > threshold).nonzero()[:, 0]\n",
    "    return [classes[i] for i in pred_indices]\n",
    "\n",
    "# test model and print results\n",
    "def test_model(model: nn.Module, img_path: str, actual_classes: List[str]):\n",
    "    probs = predict(model, img_path)\n",
    "    pred_classes = probs_to_classes(probs)\n",
    "\n",
    "    print('\\npredicted classes:', pred_classes)\n",
    "    print('actual classes:   ', actual_classes)\n"
   ]
  },
  {
   "cell_type": "markdown",
   "id": "3e12a387-b62c-4030-9b79-3ab815bb3c13",
   "metadata": {},
   "source": [
    "## Test 1\n",
    "\n",
    "4 band, 1M ohm, 5% tolerance\n",
    "\n",
    "<img src=\"test-data/4B-1M-T5.jpg\" alt=\"test-data/4B-1M-T5.jpg\" width=\"256\"/>"
   ]
  },
  {
   "cell_type": "code",
   "execution_count": 9,
   "id": "82403e27-59d0-49da-8c55-3d655e9845b1",
   "metadata": {},
   "outputs": [
    {
     "name": "stdout",
     "output_type": "stream",
     "text": [
      "band_1_silver -> 0.07%\n",
      "band_1_white -> 0.04%\n",
      "band_1_blue -> 0.03%\n",
      "band_1_grey -> 0.09%\n",
      "band_1_violet -> 0.06%\n",
      "band_1_green -> 0.08%\n",
      "band_1_yellow -> 0.22%\n",
      "band_1_orange -> 0.12%\n",
      "band_1_red -> 0.89%\n",
      "band_1_gold -> 0.05%\n",
      "band_1_black -> 0.06%\n",
      "band_1_brown -> 99.37%\n",
      "\n",
      "band_2_silver -> 0.05%\n",
      "band_2_white -> 0.13%\n",
      "band_2_blue -> 0.08%\n",
      "band_2_grey -> 0.21%\n",
      "band_2_violet -> 0.09%\n",
      "band_2_green -> 3.85%\n",
      "band_2_yellow -> 0.07%\n",
      "band_2_orange -> 0.06%\n",
      "band_2_red -> 1.32%\n",
      "band_2_gold -> 0.04%\n",
      "band_2_black -> 92.60%\n",
      "band_2_brown -> 0.15%\n",
      "\n",
      "band_3_silver -> 0.02%\n",
      "band_3_white -> 0.06%\n",
      "band_3_blue -> 0.09%\n",
      "band_3_grey -> 0.04%\n",
      "band_3_violet -> 0.06%\n",
      "band_3_green -> 99.66%\n",
      "band_3_yellow -> 1.24%\n",
      "band_3_orange -> 0.63%\n",
      "band_3_red -> 0.15%\n",
      "band_3_gold -> 3.82%\n",
      "band_3_black -> 0.10%\n",
      "band_3_brown -> 0.21%\n",
      "\n",
      "band_4_silver -> 0.06%\n",
      "band_4_white -> 0.11%\n",
      "band_4_blue -> 0.09%\n",
      "band_4_grey -> 0.05%\n",
      "band_4_violet -> 0.04%\n",
      "band_4_green -> 0.05%\n",
      "band_4_yellow -> 0.03%\n",
      "band_4_orange -> 0.05%\n",
      "band_4_red -> 0.06%\n",
      "band_4_gold -> 99.95%\n",
      "band_4_black -> 0.04%\n",
      "band_4_brown -> 0.08%\n",
      "\n",
      "predicted classes: ['band_1_brown', 'band_2_black', 'band_3_green', 'band_4_gold']\n",
      "actual classes:    ['band_1_brown', 'band_2_black', 'band_3_green', 'band_4_gold']\n"
     ]
    }
   ],
   "source": [
    "test_model(model, 'test-data/4B-1M-T5.jpg', actual_classes=['band_1_brown', 'band_2_black', 'band_3_green', 'band_4_gold'])"
   ]
  },
  {
   "cell_type": "markdown",
   "id": "a35a9073-f45d-48de-a9be-888f12d5c89f",
   "metadata": {},
   "source": [
    "## Test 2\n",
    "\n",
    "4 band, 4.7K ohm, 5% tolerance\n",
    "\n",
    "<img src=\"test-data/4B-4K7-T5.jpg\" alt=\"test-data/4B-4K7-T5.jpg\" width=\"256\"/>"
   ]
  },
  {
   "cell_type": "code",
   "execution_count": 10,
   "id": "c3d2ef1f-8a42-4618-83a3-0f558846c6d9",
   "metadata": {},
   "outputs": [
    {
     "name": "stdout",
     "output_type": "stream",
     "text": [
      "band_1_silver -> 0.04%\n",
      "band_1_white -> 0.06%\n",
      "band_1_blue -> 0.05%\n",
      "band_1_grey -> 0.08%\n",
      "band_1_violet -> 0.04%\n",
      "band_1_green -> 0.01%\n",
      "band_1_yellow -> 98.50%\n",
      "band_1_orange -> 0.14%\n",
      "band_1_red -> 21.74%\n",
      "band_1_gold -> 0.05%\n",
      "band_1_black -> 0.05%\n",
      "band_1_brown -> 0.03%\n",
      "\n",
      "band_2_silver -> 0.05%\n",
      "band_2_white -> 0.47%\n",
      "band_2_blue -> 0.02%\n",
      "band_2_grey -> 0.01%\n",
      "band_2_violet -> 99.99%\n",
      "band_2_green -> 0.06%\n",
      "band_2_yellow -> 0.03%\n",
      "band_2_orange -> 0.14%\n",
      "band_2_red -> 0.17%\n",
      "band_2_gold -> 0.06%\n",
      "band_2_black -> 0.06%\n",
      "band_2_brown -> 0.03%\n",
      "\n",
      "band_3_silver -> 0.04%\n",
      "band_3_white -> 0.04%\n",
      "band_3_blue -> 0.04%\n",
      "band_3_grey -> 0.03%\n",
      "band_3_violet -> 0.07%\n",
      "band_3_green -> 0.12%\n",
      "band_3_yellow -> 0.44%\n",
      "band_3_orange -> 51.17%\n",
      "band_3_red -> 0.62%\n",
      "band_3_gold -> 2.12%\n",
      "band_3_black -> 2.62%\n",
      "band_3_brown -> 1.38%\n",
      "\n",
      "band_4_silver -> 0.03%\n",
      "band_4_white -> 0.04%\n",
      "band_4_blue -> 0.03%\n",
      "band_4_grey -> 0.05%\n",
      "band_4_violet -> 0.01%\n",
      "band_4_green -> 0.04%\n",
      "band_4_yellow -> 0.03%\n",
      "band_4_orange -> 0.04%\n",
      "band_4_red -> 0.02%\n",
      "band_4_gold -> 99.96%\n",
      "band_4_black -> 0.04%\n",
      "band_4_brown -> 0.03%\n",
      "\n",
      "predicted classes: ['band_1_yellow', 'band_2_violet', 'band_3_orange', 'band_4_gold']\n",
      "actual classes:    ['band_1_yellow', 'band_2_violet', 'band_3_red', 'band_4_gold']\n"
     ]
    }
   ],
   "source": [
    "test_model(model, 'test-data/4B-4K7-T5.jpg', actual_classes=['band_1_yellow', 'band_2_violet', 'band_3_red', 'band_4_gold'])"
   ]
  },
  {
   "cell_type": "markdown",
   "id": "23d6690f-fe4b-40be-a54c-8967434ed645",
   "metadata": {},
   "source": [
    "## Test 3\n",
    "\n",
    "4 band, 47K ohm, 5% tolerance\n",
    "\n",
    "<img src=\"test-data/4B-47K-T5.jpg\" alt=\"test-data/4B-47K-T5.jpg\" width=\"256\"/>"
   ]
  },
  {
   "cell_type": "code",
   "execution_count": 11,
   "id": "ec125a84-614f-4c97-8339-3c4d994c1535",
   "metadata": {},
   "outputs": [
    {
     "name": "stdout",
     "output_type": "stream",
     "text": [
      "band_1_silver -> 0.08%\n",
      "band_1_white -> 0.08%\n",
      "band_1_blue -> 0.23%\n",
      "band_1_grey -> 0.06%\n",
      "band_1_violet -> 0.06%\n",
      "band_1_green -> 0.14%\n",
      "band_1_yellow -> 97.44%\n",
      "band_1_orange -> 1.09%\n",
      "band_1_red -> 0.74%\n",
      "band_1_gold -> 0.09%\n",
      "band_1_black -> 0.06%\n",
      "band_1_brown -> 0.17%\n",
      "\n",
      "band_2_silver -> 0.11%\n",
      "band_2_white -> 1.64%\n",
      "band_2_blue -> 0.24%\n",
      "band_2_grey -> 0.09%\n",
      "band_2_violet -> 99.49%\n",
      "band_2_green -> 0.40%\n",
      "band_2_yellow -> 0.06%\n",
      "band_2_orange -> 0.26%\n",
      "band_2_red -> 0.09%\n",
      "band_2_gold -> 0.06%\n",
      "band_2_black -> 0.09%\n",
      "band_2_brown -> 0.12%\n",
      "\n",
      "band_3_silver -> 0.07%\n",
      "band_3_white -> 0.07%\n",
      "band_3_blue -> 0.08%\n",
      "band_3_grey -> 0.07%\n",
      "band_3_violet -> 0.13%\n",
      "band_3_green -> 0.17%\n",
      "band_3_yellow -> 0.13%\n",
      "band_3_orange -> 99.81%\n",
      "band_3_red -> 0.18%\n",
      "band_3_gold -> 0.89%\n",
      "band_3_black -> 0.53%\n",
      "band_3_brown -> 0.18%\n",
      "\n",
      "band_4_silver -> 0.05%\n",
      "band_4_white -> 0.06%\n",
      "band_4_blue -> 0.07%\n",
      "band_4_grey -> 0.09%\n",
      "band_4_violet -> 0.02%\n",
      "band_4_green -> 0.08%\n",
      "band_4_yellow -> 0.08%\n",
      "band_4_orange -> 0.08%\n",
      "band_4_red -> 0.03%\n",
      "band_4_gold -> 99.95%\n",
      "band_4_black -> 0.06%\n",
      "band_4_brown -> 0.07%\n",
      "\n",
      "predicted classes: ['band_1_yellow', 'band_2_violet', 'band_3_orange', 'band_4_gold']\n",
      "actual classes:    ['band_1_yellow', 'band_2_violet', 'band_3_orange', 'band_4_gold']\n"
     ]
    }
   ],
   "source": [
    "test_model(model, 'test-data/4B-47K-T5.jpg', actual_classes=['band_1_yellow', 'band_2_violet', 'band_3_orange', 'band_4_gold'])"
   ]
  },
  {
   "cell_type": "markdown",
   "id": "8b164a89-3e16-4029-ad31-d0358791c703",
   "metadata": {},
   "source": [
    "## Test 4\n",
    "\n",
    "4 band, 220 ohm, 5% tolerance\n",
    "\n",
    "<img src=\"test-data/4B-220R-T5.jpg\" alt=\"test-data/4B-220R-T5.jpg\" width=\"256\"/>"
   ]
  },
  {
   "cell_type": "code",
   "execution_count": 12,
   "id": "870dcf08-5da8-4f7d-acf1-707a5cb46ae5",
   "metadata": {},
   "outputs": [
    {
     "name": "stdout",
     "output_type": "stream",
     "text": [
      "band_1_silver -> 0.27%\n",
      "band_1_white -> 0.13%\n",
      "band_1_blue -> 0.33%\n",
      "band_1_grey -> 8.66%\n",
      "band_1_violet -> 0.11%\n",
      "band_1_green -> 0.80%\n",
      "band_1_yellow -> 0.13%\n",
      "band_1_orange -> 0.46%\n",
      "band_1_red -> 98.27%\n",
      "band_1_gold -> 0.24%\n",
      "band_1_black -> 0.29%\n",
      "band_1_brown -> 0.62%\n",
      "\n",
      "band_2_silver -> 0.13%\n",
      "band_2_white -> 0.23%\n",
      "band_2_blue -> 0.72%\n",
      "band_2_grey -> 0.25%\n",
      "band_2_violet -> 1.03%\n",
      "band_2_green -> 1.30%\n",
      "band_2_yellow -> 0.22%\n",
      "band_2_orange -> 0.96%\n",
      "band_2_red -> 99.21%\n",
      "band_2_gold -> 0.23%\n",
      "band_2_black -> 0.19%\n",
      "band_2_brown -> 0.70%\n",
      "\n",
      "band_3_silver -> 0.19%\n",
      "band_3_white -> 0.25%\n",
      "band_3_blue -> 0.17%\n",
      "band_3_grey -> 0.13%\n",
      "band_3_violet -> 0.27%\n",
      "band_3_green -> 6.20%\n",
      "band_3_yellow -> 0.17%\n",
      "band_3_orange -> 0.49%\n",
      "band_3_red -> 0.48%\n",
      "band_3_gold -> 0.47%\n",
      "band_3_black -> 4.35%\n",
      "band_3_brown -> 99.57%\n",
      "\n",
      "band_4_silver -> 0.23%\n",
      "band_4_white -> 0.17%\n",
      "band_4_blue -> 0.09%\n",
      "band_4_grey -> 0.14%\n",
      "band_4_violet -> 0.22%\n",
      "band_4_green -> 0.30%\n",
      "band_4_yellow -> 0.17%\n",
      "band_4_orange -> 0.23%\n",
      "band_4_red -> 0.32%\n",
      "band_4_gold -> 99.86%\n",
      "band_4_black -> 0.10%\n",
      "band_4_brown -> 0.23%\n",
      "\n",
      "predicted classes: ['band_1_red', 'band_2_red', 'band_3_brown', 'band_4_gold']\n",
      "actual classes:    ['band_1_red', 'band_2_red', 'band_3_brown', 'band_4_gold']\n"
     ]
    }
   ],
   "source": [
    "test_model(model, 'test-data/4B-220R-T5.jpg', actual_classes=['band_1_red', 'band_2_red', 'band_3_brown', 'band_4_gold'])"
   ]
  },
  {
   "cell_type": "markdown",
   "id": "2b12d090-666f-4765-9361-6004b1b65796",
   "metadata": {},
   "source": [
    "## Test 5\n",
    "\n",
    "4 band, 22K ohm, 5% tolerance\n",
    "\n",
    "<img src=\"test-data/4B-22K-T5.jpg\" alt=\"test-data/4B-22K-T5.jpg\" width=\"256\"/>"
   ]
  },
  {
   "cell_type": "code",
   "execution_count": 13,
   "id": "1645cd23-1351-447a-9f93-e38149cc5a16",
   "metadata": {},
   "outputs": [
    {
     "name": "stdout",
     "output_type": "stream",
     "text": [
      "band_1_silver -> 0.06%\n",
      "band_1_white -> 0.03%\n",
      "band_1_blue -> 0.19%\n",
      "band_1_grey -> 0.18%\n",
      "band_1_violet -> 0.05%\n",
      "band_1_green -> 0.08%\n",
      "band_1_yellow -> 0.02%\n",
      "band_1_orange -> 30.45%\n",
      "band_1_red -> 97.15%\n",
      "band_1_gold -> 0.05%\n",
      "band_1_black -> 0.04%\n",
      "band_1_brown -> 0.12%\n",
      "\n",
      "band_2_silver -> 0.04%\n",
      "band_2_white -> 0.99%\n",
      "band_2_blue -> 0.06%\n",
      "band_2_grey -> 0.09%\n",
      "band_2_violet -> 0.09%\n",
      "band_2_green -> 0.04%\n",
      "band_2_yellow -> 0.05%\n",
      "band_2_orange -> 11.52%\n",
      "band_2_red -> 98.53%\n",
      "band_2_gold -> 0.04%\n",
      "band_2_black -> 0.01%\n",
      "band_2_brown -> 0.04%\n",
      "\n",
      "band_3_silver -> 0.06%\n",
      "band_3_white -> 0.03%\n",
      "band_3_blue -> 0.03%\n",
      "band_3_grey -> 0.06%\n",
      "band_3_violet -> 0.07%\n",
      "band_3_green -> 0.58%\n",
      "band_3_yellow -> 0.27%\n",
      "band_3_orange -> 99.48%\n",
      "band_3_red -> 0.13%\n",
      "band_3_gold -> 0.24%\n",
      "band_3_black -> 2.30%\n",
      "band_3_brown -> 0.08%\n",
      "\n",
      "band_4_silver -> 0.03%\n",
      "band_4_white -> 0.02%\n",
      "band_4_blue -> 0.04%\n",
      "band_4_grey -> 0.04%\n",
      "band_4_violet -> 0.03%\n",
      "band_4_green -> 0.05%\n",
      "band_4_yellow -> 0.03%\n",
      "band_4_orange -> 0.04%\n",
      "band_4_red -> 0.04%\n",
      "band_4_gold -> 99.95%\n",
      "band_4_black -> 0.03%\n",
      "band_4_brown -> 0.05%\n",
      "\n",
      "predicted classes: ['band_1_red', 'band_2_red', 'band_3_orange', 'band_4_gold']\n",
      "actual classes:    ['band_1_red', 'band_2_red', 'band_3_orange', 'band_4_gold']\n"
     ]
    }
   ],
   "source": [
    "test_model(model, 'test-data/4B-22K-T5.jpg', actual_classes=['band_1_red', 'band_2_red', 'band_3_orange', 'band_4_gold'])"
   ]
  },
  {
   "cell_type": "code",
   "execution_count": null,
   "id": "c91fc18f-5281-4812-ad63-bf0246342f5f",
   "metadata": {},
   "outputs": [],
   "source": []
  }
 ],
 "metadata": {
  "kernelspec": {
   "display_name": "Python 3 (ipykernel)",
   "language": "python",
   "name": "python3"
  },
  "language_info": {
   "codemirror_mode": {
    "name": "ipython",
    "version": 3
   },
   "file_extension": ".py",
   "mimetype": "text/x-python",
   "name": "python",
   "nbconvert_exporter": "python",
   "pygments_lexer": "ipython3",
   "version": "3.11.5"
  }
 },
 "nbformat": 4,
 "nbformat_minor": 5
}
